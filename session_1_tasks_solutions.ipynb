{
 "cells": [
  {
   "cell_type": "markdown",
   "metadata": {
    "id": "A05OG15VqOPF"
   },
   "source": [
    "# Task : Session 1\n",
    "Solve these questions own your own and try to test yourself what you have learned in the session.\n",
    "\n",
    "Happy Learning!"
   ]
  },
  {
   "cell_type": "markdown",
   "metadata": {
    "id": "2doIXf8bqe9_"
   },
   "source": [
    "### Q1 :- Print the given strings as per stated format.\n",
    "\n",
    "**Given strings**:\n",
    "```\n",
    "\"Data\" \"Science\" \"Mentorship\" \"Program\"\n",
    "\"By\" \"CampusX\"\n",
    "```\n",
    "**Output**:\n",
    "```\n",
    "Data-Science-Mentorship-Program-started-By-CampusX\n",
    "```\n",
    "\n",
    "Concept- [Seperator and End]"
   ]
  },
  {
   "cell_type": "code",
   "execution_count": 1,
   "metadata": {
    "colab": {
     "base_uri": "https://localhost:8080/"
    },
    "id": "-em6d3KErDtp",
    "outputId": "284c2ca4-141f-4f8d-8684-7f574c8d8142"
   },
   "outputs": [
    {
     "name": "stdout",
     "output_type": "stream",
     "text": [
      "Data-Science-Mentorship-Program-started-By-CampusX\n"
     ]
    }
   ],
   "source": [
    "# Write your code here\n",
    "print(\"Data\",\"Science\",\"Mentorship\",\"Program\",sep='-',end='-started-')\n",
    "print(\"By\",\"CampusX\",sep='-')"
   ]
  },
  {
   "cell_type": "markdown",
   "metadata": {
    "id": "1KUpN7ZTrC3_"
   },
   "source": [
    "### Q2:- Write a program that will convert celsius value to fahrenheit."
   ]
  },
  {
   "cell_type": "code",
   "execution_count": 2,
   "metadata": {
    "colab": {
     "base_uri": "https://localhost:8080/"
    },
    "id": "yxKYhYQiqWfj",
    "outputId": "912cafee-db17-4805-92ed-d4e4db41e0e0"
   },
   "outputs": [
    {
     "name": "stdout",
     "output_type": "stream",
     "text": [
      "enter the temp in celcius 2\n",
      "35.6 F\n"
     ]
    }
   ],
   "source": [
    "# Write your code here\n",
    "celcius = float(input('enter the temp in celcius '))\n",
    "\n",
    "faren = celcius * (9/5) + 32\n",
    "\n",
    "print(faren,'F')\n"
   ]
  },
  {
   "cell_type": "markdown",
   "metadata": {
    "id": "RLrOBBJurLB2"
   },
   "source": [
    "### Q3:- Take 2 numbers as input from the user.Write a program to swap the numbers without using any special python syntax."
   ]
  },
  {
   "cell_type": "code",
   "execution_count": 3,
   "metadata": {
    "colab": {
     "base_uri": "https://localhost:8080/"
    },
    "id": "yPn7if0TrJ4F",
    "outputId": "cd952c5e-5c96-4a90-a8fb-7ce693f027e2"
   },
   "outputs": [
    {
     "name": "stdout",
     "output_type": "stream",
     "text": [
      "5\n",
      "3\n"
     ]
    }
   ],
   "source": [
    "# Write your code here\n",
    "\n",
    "a = 3\n",
    "b = 5\n",
    "\n",
    "temp = a\n",
    "a = b\n",
    "b = temp\n",
    "\n",
    "print(a)\n",
    "print(b)"
   ]
  },
  {
   "cell_type": "markdown",
   "metadata": {
    "id": "waLCP1bjr7ML"
   },
   "source": [
    "### Q4:- Write a program to find the euclidean distance between two coordinates.Take both the coordinates from the user as input."
   ]
  },
  {
   "cell_type": "code",
   "execution_count": 4,
   "metadata": {
    "colab": {
     "base_uri": "https://localhost:8080/"
    },
    "id": "Pl1Sv-xnrxnH",
    "outputId": "59c4a7e4-c804-4dc4-80a2-3b5d5fc7d5d0"
   },
   "outputs": [
    {
     "name": "stdout",
     "output_type": "stream",
     "text": [
      "enter x cood of 1st point2\n",
      "enter y cood of 1st point2\n",
      "enter x cood of 2nd point2\n",
      "enter y cood of 2nd point2\n",
      "0.0\n"
     ]
    }
   ],
   "source": [
    "# Write your code here\n",
    "p1x = int(input('enter x cood of 1st point'))\n",
    "p1y = int(input('enter y cood of 1st point'))\n",
    "p2x = int(input('enter x cood of 2nd point'))\n",
    "p2y = int(input('enter y cood of 2nd point'))\n",
    "\n",
    "distance = ((p2x - p1x)**2 + (p2y - p1y)**2)**0.5\n",
    "\n",
    "print(round(distance,2))"
   ]
  },
  {
   "cell_type": "markdown",
   "metadata": {
    "id": "VLrhg-FRsHjR"
   },
   "source": [
    "### Q5:- Write a program to find the simple interest when the value of principle,rate of interest and time period is provided by the user.\n",
    "\n",
    "Hint - si = (p * t * r)/100\n"
   ]
  },
  {
   "cell_type": "code",
   "execution_count": 5,
   "metadata": {
    "colab": {
     "base_uri": "https://localhost:8080/"
    },
    "id": "s40DlReZsTmY",
    "outputId": "8059d580-f7d9-474a-dc9a-08b86255d82c"
   },
   "outputs": [
    {
     "name": "stdout",
     "output_type": "stream",
     "text": [
      "Enter amount2\n",
      "Enter time period2\n",
      "Enter rate2\n",
      "the interest is 0.08\n"
     ]
    }
   ],
   "source": [
    "# Write your code here\n",
    "p = int(input('Enter amount'))\n",
    "t = int(input('Enter time period'))\n",
    "r = float(input('Enter rate'))\n",
    "\n",
    "interest = (p*t*r)/100\n",
    "\n",
    "print('the interest is',interest)"
   ]
  },
  {
   "cell_type": "markdown",
   "metadata": {
    "id": "LMy0BTUktYKa"
   },
   "source": [
    "### Q6:- Write a program that will tell the number of dogs and chicken are there when the user will provide the value of total heads and legs.\n",
    "\n",
    "For example:\n",
    "Input:\n",
    "heads -> 4\n",
    "legs -> 12\n",
    "<br>\n",
    "Output:\n",
    "dogs -> 2\n",
    "chicken -> 2\n",
    "\n",
    "\n",
    "\n"
   ]
  },
  {
   "cell_type": "code",
   "execution_count": 6,
   "metadata": {
    "id": "XSBvJoA4tXaG"
   },
   "outputs": [
    {
     "name": "stdout",
     "output_type": "stream",
     "text": [
      "Total dogs are 5 and chickens are 1\n"
     ]
    }
   ],
   "source": [
    "# Write your code here\n",
    "\n",
    "def input_animals(heads, legs):\n",
    "#     heads = x+y\n",
    "    for x in range(1, heads+1):\n",
    "        legs1 = 4*x+2*(heads-x)\n",
    "        if legs1 == legs:\n",
    "            y = heads - x\n",
    "            print(f\"Total dogs are {x} and chickens are {y}\")\n",
    "            \n",
    "input_animals(6, 22)"
   ]
  },
  {
   "cell_type": "markdown",
   "metadata": {
    "id": "gJ7C5kZYt4BP"
   },
   "source": [
    "### Q7:- Write a program to find the sum of squares of first n natural numbers where n will be provided by the user.\n",
    "\n",
    "Hint - Thus, the sum of the squares of first n natural numbers =  n(n+1)(2n+1)/6"
   ]
  },
  {
   "cell_type": "code",
   "execution_count": 7,
   "metadata": {
    "colab": {
     "base_uri": "https://localhost:8080/"
    },
    "id": "_tHsmEHzt2nX",
    "outputId": "ddf56e90-7ccc-436e-98a5-c0acd0339c1c"
   },
   "outputs": [
    {
     "name": "stdout",
     "output_type": "stream",
     "text": [
      "enter the number2\n",
      "5.0\n"
     ]
    }
   ],
   "source": [
    "# Write your code here\n",
    "n = int(input('enter the number'))\n",
    "\n",
    "result = (n*(n+1)*(2*n + 1))/6\n",
    "print(result)"
   ]
  },
  {
   "cell_type": "markdown",
   "metadata": {
    "id": "FHrMM7g-yG1h"
   },
   "source": [
    "### Q8:- Given the first 2 terms of an Arithmetic Series.Find the Nth term of the series. Assume all inputs are provided by the user.\n",
    "\n",
    "Hint - an = a + (n – 1)d"
   ]
  },
  {
   "cell_type": "code",
   "execution_count": 8,
   "metadata": {
    "colab": {
     "base_uri": "https://localhost:8080/"
    },
    "id": "go4_kmZmyVSx",
    "outputId": "07cbf7ef-c33e-4c66-c6d2-a5577bb5f212"
   },
   "outputs": [
    {
     "name": "stdout",
     "output_type": "stream",
     "text": [
      "enter 1st term2\n",
      "enter 2nd term2\n",
      "enter the value of n2\n",
      "2\n"
     ]
    }
   ],
   "source": [
    "# Write your code here\n",
    "first_term = int(input('enter 1st term'))\n",
    "second_term = int(input('enter 2nd term'))\n",
    "n = int(input('enter the value of n'))\n",
    "\n",
    "d = second_term - first_term\n",
    "\n",
    "an = first_term + (n-1)*d\n",
    "\n",
    "print(an)\n",
    "\n"
   ]
  },
  {
   "cell_type": "markdown",
   "metadata": {
    "id": "QgyRX_es1oum"
   },
   "source": [
    "### Q9:- Given 2 fractions, find the sum of those 2 fractions.Take the numerator and denominator values of the fractions from the user."
   ]
  },
  {
   "cell_type": "code",
   "execution_count": 9,
   "metadata": {
    "colab": {
     "base_uri": "https://localhost:8080/"
    },
    "id": "X05xqFS1yW16",
    "outputId": "c54b88d3-389d-43fd-b8aa-b1cff3724f9a"
   },
   "outputs": [
    {
     "name": "stdout",
     "output_type": "stream",
     "text": [
      "num12\n",
      "den12\n",
      "num22\n",
      "den22\n",
      "8/4\n"
     ]
    }
   ],
   "source": [
    "# Write your code here\n",
    "n1 = int(input('num1'))\n",
    "d1 = int(input('den1'))\n",
    "n2 = int(input('num2'))\n",
    "d2 = int(input('den2'))\n",
    "\n",
    "rn = n1*d2 + n2*d1\n",
    "rd = d1*d2\n",
    "\n",
    "print('{}/{}'.format(rn,rd))"
   ]
  },
  {
   "cell_type": "markdown",
   "metadata": {
    "id": "eaql38ln13u7"
   },
   "source": [
    "### Q10:- Given the height, width and breadth of a milk tank, you have to find out how many glasses of milk can be obtained? Assume all the inputs are provided by the user.\n",
    "\n",
    "\n",
    "\n",
    "Input:<br>\n",
    "Dimensions of the milk tank<br>\n",
    "H = 20cm, L = 20cm, B = 20cm\n",
    "<br><br>\n",
    "Dimensions of the glass<br>\n",
    "h = 3cm, r = 1cm"
   ]
  },
  {
   "cell_type": "code",
   "execution_count": 10,
   "metadata": {
    "colab": {
     "base_uri": "https://localhost:8080/"
    },
    "id": "FePZqno74eWv",
    "outputId": "7a3fa760-c945-4b5d-a769-f6e052ea96dc"
   },
   "outputs": [
    {
     "name": "stdout",
     "output_type": "stream",
     "text": [
      "height2\n",
      "breadth2\n",
      "length2\n",
      "height of glass2\n",
      "radius of the glass2\n",
      "no of glasses 0\n"
     ]
    }
   ],
   "source": [
    "# Write your code here\n",
    "import math\n",
    "\n",
    "h_t = float(input('height'))\n",
    "b_t = float(input('breadth'))\n",
    "l_t = float(input('length'))\n",
    "\n",
    "h_g = float(input('height of glass'))\n",
    "r_g = float(input('radius of the glass'))\n",
    "\n",
    "vol_tank = h_t*b_t*l_t\n",
    "vol_glass = 3.14*r_g*r_g*h_g\n",
    "\n",
    "print('no of glasses',math.floor(vol_tank/vol_glass))"
   ]
  }
 ],
 "metadata": {
  "colab": {
   "provenance": []
  },
  "kernelspec": {
   "display_name": "Python 3 (ipykernel)",
   "language": "python",
   "name": "python3"
  },
  "language_info": {
   "codemirror_mode": {
    "name": "ipython",
    "version": 3
   },
   "file_extension": ".py",
   "mimetype": "text/x-python",
   "name": "python",
   "nbconvert_exporter": "python",
   "pygments_lexer": "ipython3",
   "version": "3.9.13"
  }
 },
 "nbformat": 4,
 "nbformat_minor": 1
}
